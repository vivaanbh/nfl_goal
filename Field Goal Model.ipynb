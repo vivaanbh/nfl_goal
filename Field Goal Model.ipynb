{
 "cells": [
  {
   "cell_type": "raw",
   "id": "858ab22e",
   "metadata": {},
   "source": [
    "---\n",
    "title: \"Field Goal Model\"\n",
    "output:\n",
    "  pdf_document: default\n",
    "  html_document: default\n",
    "---"
   ]
  },
  {
   "cell_type": "code",
   "execution_count": null,
   "id": "a8938609",
   "metadata": {
    "name": "setup",
    "tags": [
     "remove_cell"
    ]
   },
   "outputs": [],
   "source": [
    "knitr::opts_chunk$set(echo = TRUE)"
   ]
  },
  {
   "cell_type": "markdown",
   "id": "7f67eeb3",
   "metadata": {},
   "source": [
    "**Step 1: Expected (Field) Goals**"
   ]
  },
  {
   "cell_type": "code",
   "execution_count": null,
   "id": "4a69b2c8",
   "metadata": {},
   "outputs": [],
   "source": [
    "install.packages('RCurl')"
   ]
  },
  {
   "cell_type": "code",
   "execution_count": null,
   "id": "79d287d5",
   "metadata": {},
   "outputs": [],
   "source": [
    "#loading required libraries\n",
    "library(tidyverse)\n",
    "library(RCurl)\n",
    "library(ggplot2)"
   ]
  },
  {
   "cell_type": "code",
   "execution_count": null,
   "id": "579a5d6c",
   "metadata": {},
   "outputs": [],
   "source": [
    "# Loading the Data\n",
    "url <- getURL(\"https://raw.githubusercontent.com/statsbylopez/StatsSports/master/Data/nfl_fg.csv\")\n",
    "nfl.kick <- read.csv(text = url)\n",
    "head(nfl.kick)"
   ]
  },
  {
   "cell_type": "code",
   "execution_count": null,
   "id": "2ff00a6d",
   "metadata": {
    "eval": false
   },
   "outputs": [],
   "source": [
    "#characterisitics of the data - columns\n",
    "names(nfl.kick)"
   ]
  },
  {
   "cell_type": "code",
   "execution_count": null,
   "id": "0656c245",
   "metadata": {},
   "outputs": [],
   "source": [
    "#summary stats for variables in data\n",
    "summary(nfl.kick)"
   ]
  },
  {
   "cell_type": "code",
   "execution_count": null,
   "id": "44c43e9b",
   "metadata": {
    "eval": false
   },
   "outputs": [],
   "source": [
    "#visualization of variables\n",
    "ggplot(data = nfl.kick, aes(GameMinute), ) + \n",
    "         geom_histogram()\n",
    "ggplot(data = nfl.kick, aes(ScoreDiff)) + \n",
    "         geom_histogram()\n",
    "ggplot(data = nfl.kick, aes(Distance)) + \n",
    "         geom_histogram()"
   ]
  },
  {
   "cell_type": "markdown",
   "id": "97456e7a",
   "metadata": {
    "lines_to_next_cell": 0
   },
   "source": [
    "The summary statistics above and the visualizations help understand how the variable is distributed in the data, and help select \n",
    "the characteristics for our model. \n",
    "\n",
    "The distance variable is uniformly distributed till about 48 yards, and then we see a right tail implying that further that the number of \n",
    "kicks reduce after that point as the number of kicks drastically reduce.\n",
    "\n",
    "The Game Minute variable is rather uniformly distributed, with a clear mode just before the second half. The data also looks symmetric. \n",
    "For the purposes of this model, we will change the variable to 'GameQuarter' through grouping of time intervals by 15 minutes.  "
   ]
  },
  {
   "cell_type": "code",
   "execution_count": null,
   "id": "2b019ecb",
   "metadata": {},
   "outputs": [],
   "source": [
    "nfl.kick <- nfl.kick %>%\n",
    "  mutate(GameQuarter = if_else(GameMinute<=15, 1, if_else(GameMinute<=30, 2, if_else(GameMinute<=45, 3, 4))))"
   ]
  },
  {
   "cell_type": "markdown",
   "id": "24a1deea",
   "metadata": {
    "lines_to_next_cell": 0
   },
   "source": [
    "For the ScoreDiff variable, it has a bell shaped distribution and is symmetric with a close mean and median. This variable is transformed\n",
    "into another variable for Win, Loss or Draw depending on the difference in the score at that point. "
   ]
  },
  {
   "cell_type": "code",
   "execution_count": null,
   "id": "6191a0f1",
   "metadata": {},
   "outputs": [],
   "source": [
    "nfl.kick <- nfl.kick %>%\n",
    "  mutate(WLD = if_else(ScoreDiff==0, 0, if_else(ScoreDiff<0, -1, 1)))"
   ]
  },
  {
   "cell_type": "code",
   "execution_count": null,
   "id": "25fe9441",
   "metadata": {
    "lines_to_next_cell": 0
   },
   "outputs": [],
   "source": [
    "#summary stats for new variables\n",
    "summary(nfl.kick$GameQuarter)\n",
    "summary(nfl.kick$WLD)"
   ]
  },
  {
   "cell_type": "markdown",
   "id": "f803fb5a",
   "metadata": {},
   "source": [
    "The variables we select are - the distance from which a shot is taken, what game situation the team was in, \n",
    "the quarter the game was being played in and whether it was played on Grass or Turf\n",
    "\n",
    "The logistic regression model is below:\n",
    "\n",
    "$$  \\log(\\dfrac{P(success=1)}{1-P(success=1)}) = \\beta_0+\\beta_1*Distance +\\beta_2*WLD +\\beta_3*GameQuarter +\\beta_4*Grass  + e $$\n",
    "Success is defined as whether a kick was 'made', whether it was a goal or not. "
   ]
  },
  {
   "cell_type": "code",
   "execution_count": null,
   "id": "eab34c66",
   "metadata": {
    "lines_to_next_cell": 0
   },
   "outputs": [],
   "source": [
    "#fitting the model using logistic regression\n",
    "fit.1 <- glm(Success ~ Distance + WLD + GameQuarter + Grass, data = nfl.kick, family = \"binomial\")\n",
    "summary(fit.1)"
   ]
  },
  {
   "cell_type": "markdown",
   "id": "33a520f1",
   "metadata": {},
   "source": [
    "The following model is produced:\n",
    "$$  \\log(\\dfrac{P(success=1)}{1-P(success=1)}) = 5.78 -0.103*Distance -0.012*WLD +0.017*GameQuarter -0.168*Grass  + e $$\n",
    "From the coefficients, we can understand the effect of a variable of the log-odds of a goal. \n",
    "All variables except GameQuarter seem to negatively affect the probability of a goal as they increase. \n",
    "This makes sense, as it is difficult to take a kick from further out, it can be argued that a losing \n",
    "position is positively associated with a kick, and lastly, playing on grass seems to negatively affect \n",
    "the probability."
   ]
  },
  {
   "cell_type": "code",
   "execution_count": null,
   "id": "99516bd8",
   "metadata": {
    "lines_to_next_cell": 0
   },
   "outputs": [],
   "source": [
    "exp(fit.1$coeff)\n",
    "exp(confint(fit.1))"
   ]
  },
  {
   "cell_type": "markdown",
   "id": "116d4e90",
   "metadata": {},
   "source": [
    "Since the model is expressed in log-odds, we exponentiate the coefficients to better understand the model. \n",
    "\n",
    "$$  \\frac{P(success=1)}{1-P(success=1)} = 325.26 +0.9*Distance +0.99*WLD +1.02*GameQuarter +0.85*Grass  + e $$\n",
    "A one-unit increase in the explanatory variables will multiple the odds ratio by the exponential value of the coefficients. Therefore, as WLD and \n",
    "Game Quarter are not statistically significant results, and their coefficients are close 1, we can say that a losing position and as the game goes on, a kick is \n",
    "slightly more likely to go in, on average. On the other hand, a one-unit increase in distance will reduce the odds ratio by 0.9*(probability of sucess)*(probabilty of failure),\n",
    "where the probability is estimated for the data point in question. Similarly, Grass has a negative effect in the odds ratio as well. "
   ]
  },
  {
   "cell_type": "code",
   "execution_count": null,
   "id": "4f9862ab",
   "metadata": {
    "lines_to_next_cell": 0
   },
   "outputs": [],
   "source": [
    "nfl.kick <- nfl.kick %>% \n",
    "  mutate(expectedmakes1 = fitted(fit.1))\n",
    "nfl.kick <- nfl.kick %>% \n",
    "  mutate(extramakes1 = Success-expectedmakes1)"
   ]
  },
  {
   "cell_type": "code",
   "execution_count": null,
   "id": "c02cde74",
   "metadata": {},
   "outputs": [],
   "source": [
    "ggplot(nfl.kick, aes(expectedmakes1)) + \n",
    "  geom_histogram()\n",
    "ggplot(nfl.kick, aes(extramakes1)) + \n",
    "  geom_histogram()"
   ]
  },
  {
   "cell_type": "code",
   "execution_count": null,
   "id": "9771319c",
   "metadata": {},
   "outputs": [],
   "source": [
    "ggplot(nfl.kick,aes(Distance, expectedmakes1 ,color=Grass)) + geom_point()\n",
    "ggplot(nfl.kick,aes(Distance, expectedmakes1 ,color=WLD)) + geom_point()\n",
    "ggplot(nfl.kick,aes(GameQuarter, expectedmakes1)) + geom_point()"
   ]
  },
  {
   "cell_type": "markdown",
   "id": "963d2127",
   "metadata": {},
   "source": [
    "**Step 2: Points above average**"
   ]
  },
  {
   "cell_type": "code",
   "execution_count": null,
   "id": "5837b271",
   "metadata": {
    "lines_to_next_cell": 0
   },
   "outputs": [],
   "source": [
    "summary(nfl.kick$expectedmakes1)"
   ]
  },
  {
   "cell_type": "code",
   "execution_count": null,
   "id": "58c82678",
   "metadata": {},
   "outputs": [],
   "source": [
    "#adding a variable to show that a shot was above average\n",
    "kick <- nfl.kick %>%\n",
    "  select(Kicker, expectedmakes1, Success, Distance) %>%\n",
    "  mutate(above_average = if_else(expectedmakes1>mean(expectedmakes1), 1, 0))"
   ]
  },
  {
   "cell_type": "code",
   "execution_count": null,
   "id": "802c7886",
   "metadata": {},
   "outputs": [],
   "source": [
    "ggplot(kick,aes(above_average)) + geom_histogram()"
   ]
  },
  {
   "cell_type": "code",
   "execution_count": null,
   "id": "a4c07202",
   "metadata": {},
   "outputs": [],
   "source": [
    "linearDist <- lm(above_average ~ Distance, data = kick)\n",
    "summary(linearDist)\n",
    "kick <- kick %>% \n",
    "  mutate(LinearPrediction = fitted(linearDist))"
   ]
  },
  {
   "cell_type": "code",
   "execution_count": null,
   "id": "e931a4e7",
   "metadata": {
    "lines_to_next_cell": 2
   },
   "outputs": [],
   "source": [
    "ggplot() + geom_point(data=kick,aes(x=Distance, y=above_average),color=\"blue\") + geom_point(data=kick,aes(x=Distance, y=LinearPrediction),color=\"red\") + scale_y_continuous(limits=c(-0.4, 1.1))"
   ]
  },
  {
   "cell_type": "markdown",
   "id": "7c8c459b",
   "metadata": {},
   "source": [
    "**Step 3: Top 5’s**"
   ]
  },
  {
   "cell_type": "code",
   "execution_count": null,
   "id": "80676821",
   "metadata": {},
   "outputs": [],
   "source": [
    "Kicker1 <- kick %>%\n",
    "    group_by(Kicker) %>%\n",
    "    summarize(total=sum(above_average),numkicks=n(),pointsperkick=total/numkicks)\n",
    "head(Kicker1)"
   ]
  },
  {
   "cell_type": "code",
   "execution_count": null,
   "id": "035217fa",
   "metadata": {},
   "outputs": [],
   "source": [
    "ggplot(Kicker1,aes(total)) + geom_histogram()\n",
    "ggplot(Kicker1,aes(pointsperkick)) + geom_histogram()"
   ]
  },
  {
   "cell_type": "markdown",
   "id": "8385efad",
   "metadata": {},
   "source": [
    "The first distribution does not have any clear shape, but a few clear outliers are seen. The second distribution\n",
    "shows that the model always predicted an above average shot for a player and never predicted the same for a few. \n",
    "The rest of the distribution looks rather symmetric around 0.62 and ranges from 0.36 to 0.88. The most amount of \n",
    "values are centred around the data. "
   ]
  },
  {
   "cell_type": "code",
   "execution_count": null,
   "id": "1f42372b",
   "metadata": {},
   "outputs": [],
   "source": [
    "Kicker2 <- Kicker1 %>% arrange(desc(total))\n",
    "Kicker3 <- Kicker1 %>% arrange(desc(pointsperkick))\n",
    "head(Kicker2, 5)\n",
    "head(Kicker3, 5)"
   ]
  },
  {
   "cell_type": "code",
   "execution_count": null,
   "id": "96c5f63a",
   "metadata": {},
   "outputs": [],
   "source": [
    "#add a variable to assess whether a shot is a long or not (45 yards+)\n",
    "kick <- nfl.kick %>%\n",
    "  select(Kicker, expectedmakes1, Success, Distance) %>%\n",
    "  mutate(longshot=if_else(Distance>45, 1, 0)) %>%\n",
    "  mutate(above_average = if_else(expectedmakes1>mean(expectedmakes1), 1, 0))\n",
    "\n",
    "#fliter for only longshots\n",
    "Kicker4 <- kick %>%\n",
    "    select(longshot, Kicker, expectedmakes1, Success, above_average) %>%\n",
    "    filter(longshot==1) %>%\n",
    "    group_by(Kicker) %>%\n",
    "    summarize(total=sum(above_average),numkicks=n(),pointspergame=total/numkicks)\n",
    "Kicker4 %>% arrange(desc(total))\n",
    "Kicker5 <- Kicker4 %>% arrange(desc(pointspergame))\n",
    "head(Kicker4, 5)\n",
    "head(Kicker5, 5)"
   ]
  },
  {
   "cell_type": "markdown",
   "id": "7cb6bb52",
   "metadata": {
    "lines_to_next_cell": 0
   },
   "source": [
    "Looking at 35 yard+ kicks:"
   ]
  },
  {
   "cell_type": "code",
   "execution_count": null,
   "id": "1b91e8ab",
   "metadata": {},
   "outputs": [],
   "source": [
    "kick <- nfl.kick %>%\n",
    "  select(Kicker, expectedmakes1, Success, Distance) %>%\n",
    "  mutate(longshot=if_else(Distance>35, 1, 0)) %>%\n",
    "  mutate(above_average = if_else(expectedmakes1>mean(expectedmakes1), 1, 0))\n",
    "\n",
    "#looking at player stats\n",
    "Kicker6 <- kick %>%\n",
    "    select(longshot, Kicker, expectedmakes1, Success, above_average) %>%\n",
    "    filter(longshot==1) %>%\n",
    "    group_by(Kicker) %>%\n",
    "    summarize(total=sum(above_average),numkicks=n(),pointspergame=total/numkicks)\n",
    "Kicker7 <- Kicker6 %>% arrange(desc(total))\n",
    "Kicker8 <- Kicker6 %>% arrange(desc(pointspergame))\n",
    "head(Kicker7, 5)\n",
    "head(Kicker8, 6)"
   ]
  },
  {
   "cell_type": "markdown",
   "id": "87031f47",
   "metadata": {},
   "source": [
    "**Step 4: Measuring Kicker Effectiveness**"
   ]
  },
  {
   "cell_type": "code",
   "execution_count": null,
   "id": "16d310cb",
   "metadata": {
    "lines_to_next_cell": 0
   },
   "outputs": [],
   "source": [
    "kick <- nfl.kick %>%\n",
    "  select(Kicker, expectedmakes1, Success, Distance) %>%\n",
    "  mutate(above_average = if_else(expectedmakes1>mean(expectedmakes1), 1, 0))\n",
    "head(kick)"
   ]
  },
  {
   "cell_type": "code",
   "execution_count": null,
   "id": "59b85e5d",
   "metadata": {
    "lines_to_next_cell": 0
   },
   "outputs": [],
   "source": [
    "Kicker1 <- kick %>%\n",
    "    group_by(Kicker, Distance) %>%\n",
    "    summarize(total=sum(above_average),numkicks=n(),pointsperkick=total/numkicks)\n",
    "head(Kicker1)"
   ]
  },
  {
   "cell_type": "code",
   "execution_count": null,
   "id": "29189837",
   "metadata": {},
   "outputs": [],
   "source": [
    "#filtering out for only the top 5 kickers based on total above average shots\n",
    "Kicker1 <- Kicker1 %>% \n",
    "  filter(Kicker == \"Akers\" | Kicker== \"Brown\" | Kicker == \"Gostkowski\" |Kicker == \n",
    "           \"Vinatieri\" | Kicker == \"Dawson\")"
   ]
  },
  {
   "cell_type": "code",
   "execution_count": null,
   "id": "b39277e5",
   "metadata": {},
   "outputs": [],
   "source": [
    "Akers <- Kicker1 %>% \n",
    "  filter(Kicker == \"Akers\")"
   ]
  },
  {
   "cell_type": "code",
   "execution_count": null,
   "id": "701ce9b3",
   "metadata": {
    "lines_to_next_cell": 0
   },
   "outputs": [],
   "source": [
    "ggplot() + geom_point(data=Kicker1,aes(x=Distance, y=pointsperkick),color=\"blue\") \n",
    "ggplot() + geom_point(data=Kicker1,aes(x=Distance, y=total),color=\"blue\") "
   ]
  },
  {
   "cell_type": "markdown",
   "id": "d0047b03",
   "metadata": {},
   "source": [
    "We can see that, from both distributions that till around the 40 yard mark, the model always predicts an above \n",
    "average kick, however it starts falling after every yard, after that mark. "
   ]
  },
  {
   "cell_type": "code",
   "execution_count": null,
   "id": "cdc99ae0",
   "metadata": {
    "lines_to_next_cell": 0
   },
   "outputs": [],
   "source": [
    "linearDist <- lm(pointsperkick ~ Distance, data = Akers)\n",
    "summary(linearDist)\n",
    "Akers <- Akers %>% \n",
    "  mutate(LinearPrediction = fitted(linearDist))\n",
    "linearDista <- lm(total ~ Distance, data = Akers)\n",
    "summary(linearDista)\n",
    "Akers <- Akers %>% \n",
    "  mutate(LinearPredictiona = fitted(linearDista))\n",
    "ggplot() + geom_point(data=Akers,aes(x=Distance, y=pointsperkick),color=\"blue\") + geom_point(data=Akers,aes(x=Distance, y=LinearPrediction),color=\"red\")\n",
    "ggplot() + geom_point(data=Akers,aes(x=Distance, y=total),color=\"blue\") + geom_point(data=Akers,aes(x=Distance, y=LinearPredictiona),color=\"red\")"
   ]
  },
  {
   "cell_type": "markdown",
   "id": "301ce8a1",
   "metadata": {},
   "source": [
    "Similar visulations are seen with only Akers' kicks. "
   ]
  }
 ],
 "metadata": {
  "jupytext": {
   "cell_metadata_filter": "tags,eval,name,-all",
   "notebook_metadata_filter": "-all",
   "text_representation": {
    "extension": ".Rmd",
    "format_name": "rmarkdown"
   }
  },
  "kernelspec": {
   "display_name": "R",
   "language": "R",
   "name": "ir"
  }
 },
 "nbformat": 4,
 "nbformat_minor": 5
}
